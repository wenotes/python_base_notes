{
 "cells": [
  {
   "cell_type": "code",
   "execution_count": 1,
   "metadata": {},
   "outputs": [
    {
     "name": "stdout",
     "output_type": "stream",
     "text": [
      "True\n",
      "False\n",
      "True\n",
      "False\n",
      "True\n"
     ]
    }
   ],
   "source": [
    "#02比较(关系)运算符\n",
    "#比较关系运算符输出的是布尔值（True，False）\n",
    "\"\"\"1.0版本\n",
    "比较(关系)运算符：\n",
    "==\t\t等于：比较两个【对象】是否相等\n",
    "!=\t\t不等于：比较两个【对象】是否不相等\n",
    ">\t\t大于：比较数值\n",
    "<\t\t小于：略\n",
    ">=\t\t大于等于：略\n",
    "<=\t\t小于等于：略\n",
    "\"\"\"\n",
    "print('a'=='a')\n",
    "print('a'!='a')\n",
    "print('b'>'a')#此时ASCII字符会转换为数字，大小参考ASCII对照表\n",
    "print('大'>'小')#比较的是二进制，一般没有任何场景会运用到\n",
    "print('小'>'大')"
   ]
  },
  {
   "cell_type": "code",
   "execution_count": 2,
   "metadata": {},
   "outputs": [
    {
     "name": "stdout",
     "output_type": "stream",
     "text": [
      "True and True       ==>True\n",
      "True and False      ==>False\n",
      "False and False     ==>False\n",
      "True or True        ==>True\n",
      "True or False       ==>True\n",
      "False or False      ==>False\n",
      "not True            ==>False\n",
      "not False           ==>True\n",
      "\n"
     ]
    }
   ],
   "source": [
    "#04逻辑运算符\n",
    "\"\"\"1.0版本\n",
    "逻辑运算符:\n",
    "and    x and y    布尔\"与\" - 如果 x 为 False，x and y 返回 False，否则它返回 y 的计算值。\n",
    "or     x or y     布尔\"或\" - 如果 x 是 True，它返回 x 的值，否则它返回 y 的计算值。\n",
    "not    not x      布尔\"非\" - 如果 x 为 True，返回 False 。如果 x 为 False，它返回 True。\n",
    "\"\"\"\n",
    "\n",
    "s_list = [\n",
    "    'True and True',\n",
    "    'True and False',\n",
    "    'False and False',\n",
    "    'True or True',\n",
    "    'True or False',\n",
    "    'False or False',\n",
    "    'not True',\n",
    "    'not False'\n",
    "]\n",
    "string = ''\n",
    "for s in s_list:\n",
    "    a = eval(s)\n",
    "    string+=(s+'\\t'+'==>'+str(a)+'\\n')\n",
    "print(string.expandtabs(20))"
   ]
  },
  {
   "cell_type": "code",
   "execution_count": 3,
   "metadata": {},
   "outputs": [
    {
     "name": "stdout",
     "output_type": "stream",
     "text": [
      "默认值\n",
      "默认值\n"
     ]
    }
   ],
   "source": [
    "# 场景一：函数入参时，参数为空时会用到\n",
    "def test1(arg):\n",
    "    if not arg:\n",
    "        arg = '默认值'\n",
    "        return arg\n",
    "a = test1('')\n",
    "print(a)\n",
    "def test2(arg='默认值'):\n",
    "    return arg\n",
    "print(test2())"
   ]
  },
  {
   "cell_type": "code",
   "execution_count": 4,
   "metadata": {},
   "outputs": [
    {
     "name": "stdout",
     "output_type": "stream",
     "text": [
      "如果arg为false，则用我---||---我是true\n"
     ]
    }
   ],
   "source": [
    "# 场景二：用于赋值时\n",
    "def test2(arg):\n",
    "    arg = arg or '如果arg为false，则用我'\n",
    "    return arg\n",
    "print(test2(''),test2('我是true'),sep='---||---')"
   ]
  },
  {
   "cell_type": "code",
   "execution_count": 5,
   "metadata": {},
   "outputs": [
    {
     "name": "stdout",
     "output_type": "stream",
     "text": [
      "['b'] a\n",
      "[] 1\n",
      "0 2\n",
      "() {}\n",
      "False True\n"
     ]
    }
   ],
   "source": [
    "# and or  下面返回的结果其实这是因为and 和or的运算规则导致的，和是不是什么数据类型没有关系\n",
    "# 不是很好一句话总结，先这样\n",
    "a,b = 'a',['b']    #真真  and 返回第二个真，or 返回第一个真\n",
    "c,d = 1,[]        #真假  and 返回第二个假，or 返回第一个真\n",
    "e,f = 0,2        #假真  and 返回第一个假，or 返回第二个真\n",
    "g,h = (),{}     #假假  and 返回第一个假，or 返回第二个假\n",
    "print(a and b,a or b)\n",
    "print(c and d,c or d)\n",
    "print(e and f,e or f)\n",
    "print(g and h,g or h)\n",
    "\n",
    "print(not c,not d) #not 返回bool值"
   ]
  },
  {
   "cell_type": "code",
   "execution_count": null,
   "metadata": {},
   "outputs": [],
   "source": [
    "#05位运算符\n",
    "\"\"\"主要用于二进制的计算，暂时略\n",
    "&    按位与运算符：参与运算的两个值,如果两个相应位都为1,则该位的结果为1,否则为0\n",
    "(a & b) 输出结果 12 ，二进制解释： 0000 1100\n",
    "|    按位或运算符：只要对应的二个二进位有一个为1时，结果位就为1。\n",
    "(a | b) 输出结果 61 ，二进制解释： 0011 1101\n",
    "^    按位异或运算符：当两对应的二进位相异时，结果为1\n",
    "(a ^ b) 输出结果 49 ，二进制解释： 0011 0001\n",
    "~    按位取反运算符：对数据的每个二进制位取反,即把1变为0,把0变为1。~x 类似于 -x-1\n",
    "(~a ) 输出结果 -61 ，二进制解释： 1100 0011， 在一个有符号二进制数的补码形式。\n",
    "<<    左移动运算符：运算数的各二进位全部左移若干位，由\"<<\"右边的数指定移动的位数，高位丢弃，低位补0。\n",
    "a << 2 输出结果 240 ，二进制解释： 1111 0000\n",
    ">>    右移动运算符：把\">>\"左边的运算数的各二进位全部右移若干位，\">>\"右边的数指定移动的位数\n",
    "a >> 2 输出结果 15 ，二进制解释： 0000 1111\n",
    "\"\"\""
   ]
  },
  {
   "cell_type": "code",
   "execution_count": 6,
   "metadata": {},
   "outputs": [
    {
     "name": "stdout",
     "output_type": "stream",
     "text": [
      "[1, 2, 3] [1, 2, 3] True True\n",
      "[1, 2, 3] [1, 2, 3] False True\n"
     ]
    }
   ],
   "source": [
    "#07身份运算符\n",
    "\"\"\"1.0版本\n",
    "**身份运算符：用于比较两个对象的存储单元\n",
    "is    is 是判断两个标识符是不是引用自一个对象\tx is y, 类似 id(x) == id(y) , 如果引用的是同一个对象则返回 True，否则返回 False\n",
    "is not is not 是判断两个标识符是不是引用自不同对象\tx is not y ， 类似 id(a) != id(b)。如果引用的不是同一个对象则返回结果 True，否则返回 False。\n",
    "\"\"\"\n",
    "\n",
    "# is 与 == 区别：is 用于判断两个变量引用对象是否为同一个， == 用于判断引用变量的值是否相等。例子用列表比较明白\n",
    "a = [1,2,3]\n",
    "b = a\n",
    "print(a,b,a is b,a==b)\n",
    "\n",
    "b = a[:]\n",
    "print(a,b,a is b,a==b)"
   ]
  },
  {
   "cell_type": "code",
   "execution_count": null,
   "metadata": {},
   "outputs": [],
   "source": [
    "#08运算符优先级\n",
    "\"\"\"一般用()来控制优先级\n",
    "**            指数 (最高优先级)\n",
    "~ + -         按位翻转, 一元加号和减号 (最后两个的方法名为 +@ 和 -@)\n",
    "* / % //      乘，除，取模和取整除\n",
    "+ -           加法减法\n",
    ">> <<         右移，左移运算符\n",
    "&             位 'AND'\n",
    "^ |           位运算符\n",
    "<= < > >=     比较运算符\n",
    "<> == !=      等于运算符\n",
    "= %= /= //= -= += *= **=     赋值运算符\n",
    "is is not     身份运算符\n",
    "in not in     成员运算符\n",
    "and or not    逻辑运算符\n",
    "\"\"\""
   ]
  }
 ],
 "metadata": {
  "kernelspec": {
   "display_name": "Python 3",
   "language": "python",
   "name": "python3"
  },
  "language_info": {
   "codemirror_mode": {
    "name": "ipython",
    "version": 3
   },
   "file_extension": ".py",
   "mimetype": "text/x-python",
   "name": "python",
   "nbconvert_exporter": "python",
   "pygments_lexer": "ipython3",
   "version": "3.7.0"
  }
 },
 "nbformat": 4,
 "nbformat_minor": 2
}
