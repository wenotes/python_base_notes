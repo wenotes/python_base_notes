{
 "cells": [
  {
   "cell_type": "code",
   "execution_count": 3,
   "metadata": {},
   "outputs": [
    {
     "name": "stdout",
     "output_type": "stream",
     "text": [
      "1\n",
      "9\n",
      "-->  <--\n"
     ]
    }
   ],
   "source": [
    "\"\"\"逻辑运算\n",
    "Tips\n",
    "##############\n",
    "and:与,两端同时为真,结果才为真\n",
    "or:或,两端有一个为真,结果为真\n",
    "not:非,非真既假,非假既真\n",
    "运算顺序:() => not => and => or\n",
    "X or Y:\n",
    "如果X是零,输出Y\n",
    "如果X非零,输出X\n",
    "##############\n",
    "\"\"\"\n",
    "#\n",
    "val = 1 or 9\n",
    "print(val)\n",
    "\n",
    "va2 = 0 or 9\n",
    "print(va2)\n",
    "\n",
    "va3 = 0 or \"\"\n",
    "print(\"-->\", va3, \"<--\")"
   ]
  },
  {
   "cell_type": "code",
   "execution_count": 4,
   "metadata": {},
   "outputs": [
    {
     "name": "stdout",
     "output_type": "stream",
     "text": [
      "False\n",
      "True\n",
      "False\n"
     ]
    }
   ],
   "source": [
    "\"\"\"and\n",
    "\"\"\"\n",
    "print(1 > 2 and 3 > 4)\n",
    "print(5 > 3 and 4 < 6)\n",
    "print(5 > 3 and 4 > 6)"
   ]
  },
  {
   "cell_type": "code",
   "execution_count": 5,
   "metadata": {},
   "outputs": [
    {
     "name": "stdout",
     "output_type": "stream",
     "text": [
      "False\n",
      "True\n",
      "True\n"
     ]
    }
   ],
   "source": [
    "\"\"\"or\n",
    "\"\"\"\n",
    "print(1 > 2 or 3 > 4)\n",
    "print(5 > 3 or 4 < 6)\n",
    "print(5 > 3 or 4 > 6)"
   ]
  },
  {
   "cell_type": "code",
   "execution_count": 3,
   "metadata": {},
   "outputs": [
    {
     "name": "stdout",
     "output_type": "stream",
     "text": [
      "False\n"
     ]
    }
   ],
   "source": [
    "\"\"\"and => or\n",
    "运算时先计算and\n",
    "\"\"\"\n",
    "print(2 > 1 and 3 < 4 or 4 > 5 and 2 < 1)"
   ]
  },
  {
   "cell_type": "code",
   "execution_count": 9,
   "metadata": {},
   "outputs": [
    {
     "name": "stdout",
     "output_type": "stream",
     "text": [
      "1\n",
      "1\n",
      "1\n",
      "2\n",
      "1\n",
      "3\n"
     ]
    }
   ],
   "source": [
    "\"\"\" X or Y # 如果X是0,则返回Y,如果X非0,则返回X\n",
    "\"\"\"\n",
    "print(1 or 2)\n",
    "print(1 or 0)\n",
    "print(0 or 1)\n",
    "print(0 or 2)\n",
    "print(0 or 1 or 2 or 3)\n",
    "print(3 or 0 or 1 or 0 or 2)"
   ]
  },
  {
   "cell_type": "code",
   "execution_count": 10,
   "metadata": {},
   "outputs": [
    {
     "name": "stdout",
     "output_type": "stream",
     "text": [
      "2\n",
      "0\n",
      "0\n"
     ]
    }
   ],
   "source": [
    "\"\"\"X and Y # and和or相反\n",
    "\"\"\"\n",
    "print(1 and 2)\n",
    "print(0 and 2)\n",
    "print(1 and 0)"
   ]
  },
  {
   "cell_type": "code",
   "execution_count": 13,
   "metadata": {},
   "outputs": [
    {
     "name": "stdout",
     "output_type": "stream",
     "text": [
      "2\n",
      "1\n"
     ]
    }
   ],
   "source": [
    "print(1 and 2 or 3)\n",
    "print(1 or 2 and 3)"
   ]
  },
  {
   "cell_type": "code",
   "execution_count": 14,
   "metadata": {},
   "outputs": [
    {
     "name": "stdout",
     "output_type": "stream",
     "text": [
      "False\n",
      "False\n"
     ]
    }
   ],
   "source": [
    "print(1 and 2 > 3)\n",
    "print(2 > 3 and 1)\n",
    "print(1 > 2 or 0 and 3 < 6 or 5)"
   ]
  },
  {
   "cell_type": "code",
   "execution_count": null,
   "metadata": {},
   "outputs": [],
   "source": []
  }
 ],
 "metadata": {
  "kernelspec": {
   "display_name": "Python 3",
   "language": "python",
   "name": "python3"
  },
  "language_info": {
   "codemirror_mode": {
    "name": "ipython",
    "version": 3
   },
   "file_extension": ".py",
   "mimetype": "text/x-python",
   "name": "python",
   "nbconvert_exporter": "python",
   "pygments_lexer": "ipython3",
   "version": "3.7.3"
  }
 },
 "nbformat": 4,
 "nbformat_minor": 2
}
