{
 "cells": [
  {
   "cell_type": "code",
   "execution_count": 1,
   "metadata": {},
   "outputs": [
    {
     "name": "stdout",
     "output_type": "stream",
     "text": [
      "True\n",
      "False\n",
      "True\n",
      "False\n",
      "True\n"
     ]
    }
   ],
   "source": [
    "\"\"\"比较运算\n",
    "比较(关系)运算符：\n",
    "==\t\t等于：比较两个【对象】是否相等\n",
    "!=\t\t不等于：比较两个【对象】是否不相等\n",
    ">\t\t大于：比较数值\n",
    "<\t\t小于：略\n",
    ">=\t\t大于等于：略\n",
    "<=\t\t小于等于：略\n",
    "\"\"\"\n",
    "#\n",
    "print('a' == 'a')\n",
    "print('a' != 'a')\n",
    "print('b' > 'a')            # 此时ASCII字符会转换为数字，大小参考ASCII对照表\n",
    "print('大' > '小')            # 比较的是二进制，一般没有任何场景会运用到\n",
    "print('小' > '大')\n"
   ]
  },
  {
   "cell_type": "code",
   "execution_count": null,
   "metadata": {},
   "outputs": [],
   "source": []
  }
 ],
 "metadata": {
  "kernelspec": {
   "display_name": "Python 3",
   "language": "python",
   "name": "python3"
  },
  "language_info": {
   "codemirror_mode": {
    "name": "ipython",
    "version": 3
   },
   "file_extension": ".py",
   "mimetype": "text/x-python",
   "name": "python",
   "nbconvert_exporter": "python",
   "pygments_lexer": "ipython3",
   "version": "3.7.3"
  }
 },
 "nbformat": 4,
 "nbformat_minor": 2
}
