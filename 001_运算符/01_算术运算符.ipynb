{
 "cells": [
  {
   "cell_type": "code",
   "execution_count": null,
   "metadata": {},
   "outputs": [],
   "source": [
    "\"\"\"1.简单基本运算符\n",
    "Tips\n",
    "+,-,*,/,%(计算余数,取模),//(整除),**(幂运算)\n",
    "\"\"\"\n",
    "print(10 + 3)                               # 加法\n",
    "print(10 - 3)                               # 减法\n",
    "print(10 % 3)                               # 取模\n",
    "print(10 / 3)                               # 除法(有误差)\n",
    "print(10 // 3)                              # 整除,计算商"
   ]
  },
  {
   "cell_type": "code",
   "execution_count": 2,
   "metadata": {},
   "outputs": [
    {
     "name": "stdout",
     "output_type": "stream",
     "text": [
      "请你输入一个整数:6\n",
      "你输入的是一个偶数!\n"
     ]
    }
   ],
   "source": [
    "\"\"\"\n",
    "EXP:1.输入一个数,判断输入的是偶数还是奇数\n",
    "\"\"\"\n",
    "n = int(input(\"请你输入一个整数:\"))\n",
    "if n % 2 == 1:\n",
    "    print(\"你输入的是一个奇数!\")\n",
    "elif n % 2 == 0:\n",
    "    print(\"你输入的是一个偶数!\")\n",
    "else:\n",
    "    print(\"你输入的不是整数!!!!!\")"
   ]
  },
  {
   "cell_type": "code",
   "execution_count": 1,
   "metadata": {},
   "outputs": [
    {
     "name": "stdout",
     "output_type": "stream",
     "text": [
      "1\n",
      "3\n",
      "5\n",
      "7\n",
      "9\n",
      "11\n",
      "13\n",
      "15\n",
      "17\n",
      "19\n",
      "21\n",
      "23\n",
      "25\n",
      "27\n",
      "29\n",
      "31\n",
      "33\n",
      "35\n",
      "37\n",
      "39\n",
      "41\n",
      "43\n",
      "45\n",
      "47\n",
      "49\n",
      "51\n",
      "53\n",
      "55\n",
      "57\n",
      "59\n",
      "61\n",
      "63\n",
      "65\n",
      "67\n",
      "69\n",
      "71\n",
      "73\n",
      "75\n",
      "77\n",
      "79\n",
      "81\n",
      "83\n",
      "85\n",
      "87\n",
      "89\n",
      "91\n",
      "93\n",
      "95\n",
      "97\n",
      "99\n"
     ]
    }
   ],
   "source": [
    "\"\"\"\n",
    "EXP:2.打印1~100之间的奇数\n",
    "\"\"\"\n",
    "count = 1\n",
    "while count <= 100:\n",
    "    if count % 2 == 1:\n",
    "        print(count)\n",
    "    count += 1"
   ]
  },
  {
   "cell_type": "code",
   "execution_count": 5,
   "metadata": {},
   "outputs": [
    {
     "name": "stdout",
     "output_type": "stream",
     "text": [
      "5050\n"
     ]
    }
   ],
   "source": [
    "\"\"\"\n",
    "EXP:3.打印1~100的和\n",
    "\"\"\"\n",
    "total = 0\n",
    "count = 1\n",
    "while count <= 100:\n",
    "    total = total + count\n",
    "    count = count + 1\n",
    "print(total)"
   ]
  },
  {
   "cell_type": "code",
   "execution_count": 7,
   "metadata": {},
   "outputs": [
    {
     "name": "stdout",
     "output_type": "stream",
     "text": [
      "奇数和为2500\n",
      "偶数和为2550\n",
      "输出1-2+3-4+5....-100的结果为:-50\n"
     ]
    }
   ],
   "source": [
    "\"\"\"\n",
    "EXP:4.输出1-2+3-4+5....-100的结果\n",
    "\"\"\"\n",
    "count = 1\n",
    "num_1 = 0\n",
    "num_2 = 0\n",
    "while count <= 100:\n",
    "    if count % 2 == 1:\n",
    "        num_1 += count\n",
    "    else:\n",
    "        num_2 += count\n",
    "    count += 1\n",
    "print(\"奇数和为%s\" % (num_1,))\n",
    "print(\"偶数和为%s\" % (num_2,))\n",
    "print(\"输出1-2+3-4+5....-100的结果为:%s\" % (num_1 - num_2,))"
   ]
  },
  {
   "cell_type": "code",
   "execution_count": 12,
   "metadata": {},
   "outputs": [
    {
     "name": "stdout",
     "output_type": "stream",
     "text": [
      "0\n",
      "2\n",
      "4\n",
      "6\n",
      "8\n",
      "10\n",
      "12\n",
      "14\n",
      "16\n",
      "18\n",
      "20\n",
      "22\n",
      "24\n",
      "26\n",
      "28\n",
      "30\n",
      "32\n",
      "34\n",
      "36\n",
      "38\n",
      "40\n",
      "42\n",
      "44\n",
      "46\n",
      "48\n",
      "50\n",
      "52\n",
      "54\n",
      "56\n",
      "58\n",
      "60\n",
      "62\n",
      "64\n",
      "66\n",
      "68\n",
      "70\n",
      "72\n",
      "74\n",
      "76\n",
      "78\n",
      "80\n",
      "82\n",
      "84\n",
      "86\n",
      "88\n",
      "90\n",
      "92\n",
      "94\n",
      "96\n",
      "98\n",
      "100\n"
     ]
    }
   ],
   "source": [
    "\"\"\"\n",
    "EXP:5.打印0~100之间的偶数\n",
    "\"\"\"\n",
    "for i in range(0, 101, 2):\n",
    "        print(i)"
   ]
  },
  {
   "cell_type": "code",
   "execution_count": null,
   "metadata": {},
   "outputs": [],
   "source": []
  }
 ],
 "metadata": {
  "kernelspec": {
   "display_name": "Python 3",
   "language": "python",
   "name": "python3"
  },
  "language_info": {
   "codemirror_mode": {
    "name": "ipython",
    "version": 3
   },
   "file_extension": ".py",
   "mimetype": "text/x-python",
   "name": "python",
   "nbconvert_exporter": "python",
   "pygments_lexer": "ipython3",
   "version": "3.7.3"
  }
 },
 "nbformat": 4,
 "nbformat_minor": 2
}
